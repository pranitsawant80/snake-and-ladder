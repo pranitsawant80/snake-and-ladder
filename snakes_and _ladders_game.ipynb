{
 "cells": [
  {
   "cell_type": "code",
   "execution_count": null,
   "id": "fdf69798-d626-4fb0-a9b0-2939ac9524a1",
   "metadata": {},
   "outputs": [],
   "source": []
  },
  {
   "cell_type": "code",
   "execution_count": 66,
   "id": "1002cf17-a40d-4f14-b359-50beae57e4e3",
   "metadata": {},
   "outputs": [],
   "source": [
    "import random\n",
    "def dice_number():\n",
    "    dice_number=random.randint(1,6)\n",
    "    return dice_number\n",
    "    \n",
    "def move_player(current_position,grid_size):\n",
    "    dice=dice_number()\n",
    "    updated_position=current_position+dice\n",
    "    if updated_position>(grid_size*grid_size):\n",
    "       updated_position=current_position\n",
    "\n",
    "    return updated_position,dice\n",
    "\n",
    "\n",
    "all_outputs={1:[[],[]],2:[[],[]],3:[[],[]],4:[[],[]]}\n",
    "\n",
    "def play_game(number_of_player,grid_size):\n",
    "    player_positions=[0]*number_of_player\n",
    "    winner=None\n",
    "    turn=0\n",
    "    while not winner:\n",
    "        player=turn%number_of_player\n",
    "        updated_position,dice=move_player(player_positions[player],grid_size)\n",
    "        player_positions[player]=updated_position\n",
    "        all_outputs[player+1][0].append(dice)\n",
    "        all_outputs[player+1][1].append(updated_position)\n",
    "        # print(f\"Player {player+1} at Postion {updated_position} and dice number {dice}\")  # we can uncomment and print this as well)\n",
    "        if updated_position==grid_size**2:\n",
    "            winner=player+1\n",
    "            print(f\"Player {winner} won\")\n",
    "            break\n",
    "        turn+=1\n",
    "    return winner,player_positions,f\" ouputs are in this format(player number as key,dice roll history first element of list ,position history second element of list, {all_outputs}\"\n",
    "    "
   ]
  },
  {
   "cell_type": "code",
   "execution_count": 67,
   "id": "dc119120-6a8c-4772-b261-74b8deb5e1df",
   "metadata": {},
   "outputs": [
    {
     "name": "stdout",
     "output_type": "stream",
     "text": [
      "Player 1 won\n"
     ]
    },
    {
     "data": {
      "text/plain": [
       "1"
      ]
     },
     "execution_count": 67,
     "metadata": {},
     "output_type": "execute_result"
    }
   ],
   "source": [
    "winner,final_updated_position,all_outputs=play_game(number_of_player=4,grid_size=7)\n",
    "winner"
   ]
  },
  {
   "cell_type": "code",
   "execution_count": 68,
   "id": "0d9398f1-b77c-4667-b553-7a213e42348c",
   "metadata": {},
   "outputs": [
    {
     "data": {
      "text/plain": [
       "[49, 48, 46, 45]"
      ]
     },
     "execution_count": 68,
     "metadata": {},
     "output_type": "execute_result"
    }
   ],
   "source": [
    "final_updated_position"
   ]
  },
  {
   "cell_type": "code",
   "execution_count": 69,
   "id": "ac70963d-0c2d-4aaa-b315-4746cbf26e43",
   "metadata": {},
   "outputs": [
    {
     "data": {
      "text/plain": [
       "' ouputs are in this format(player number as key,dice roll history first element of list ,position history second element of list, {1: [[5, 4, 6, 1, 4, 1, 6, 4, 4, 6, 2, 2, 5, 4], [5, 9, 15, 16, 20, 21, 27, 31, 35, 41, 43, 45, 45, 49]], 2: [[6, 6, 5, 3, 6, 3, 6, 2, 3, 5, 1, 2, 5], [6, 12, 17, 20, 26, 29, 35, 37, 40, 45, 46, 48, 48]], 3: [[4, 4, 4, 2, 1, 6, 4, 1, 3, 6, 5, 3, 3], [4, 8, 12, 14, 15, 21, 25, 26, 29, 35, 40, 43, 46]], 4: [[2, 2, 5, 4, 3, 2, 2, 6, 3, 3, 3, 5, 5], [2, 4, 9, 13, 16, 18, 20, 26, 29, 32, 35, 40, 45]]}'"
      ]
     },
     "execution_count": 69,
     "metadata": {},
     "output_type": "execute_result"
    }
   ],
   "source": [
    "all_outputs"
   ]
  },
  {
   "cell_type": "code",
   "execution_count": null,
   "id": "a6d19769-7232-41e7-9511-cc7ed2dc5729",
   "metadata": {},
   "outputs": [],
   "source": []
  },
  {
   "cell_type": "code",
   "execution_count": null,
   "id": "7e19f092-bd2d-44f3-bdd9-daafe45f6204",
   "metadata": {},
   "outputs": [],
   "source": []
  },
  {
   "cell_type": "code",
   "execution_count": null,
   "id": "0be82e2d-1169-4eba-bf64-c26b0e79c02b",
   "metadata": {},
   "outputs": [],
   "source": []
  }
 ],
 "metadata": {
  "kernelspec": {
   "display_name": "Python 3 (ipykernel)",
   "language": "python",
   "name": "python3"
  },
  "language_info": {
   "codemirror_mode": {
    "name": "ipython",
    "version": 3
   },
   "file_extension": ".py",
   "mimetype": "text/x-python",
   "name": "python",
   "nbconvert_exporter": "python",
   "pygments_lexer": "ipython3",
   "version": "3.12.7"
  }
 },
 "nbformat": 4,
 "nbformat_minor": 5
}
